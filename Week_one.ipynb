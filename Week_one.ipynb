{
  "nbformat": 4,
  "nbformat_minor": 0,
  "metadata": {
    "colab": {
      "name": "Week_one.ipynb",
      "provenance": [],
      "collapsed_sections": [],
      "authorship_tag": "ABX9TyOl3zT9BnaVZKp+zjZ7Ncc4",
      "include_colab_link": true
    },
    "kernelspec": {
      "name": "python3",
      "display_name": "Python 3"
    },
    "language_info": {
      "name": "python"
    }
  },
  "cells": [
    {
      "cell_type": "markdown",
      "metadata": {
        "id": "view-in-github",
        "colab_type": "text"
      },
      "source": [
        "<a href=\"https://colab.research.google.com/github/chaseburklund/StarCitizen-website/blob/master/Week_one.ipynb\" target=\"_parent\"><img src=\"https://colab.research.google.com/assets/colab-badge.svg\" alt=\"Open In Colab\"/></a>"
      ]
    },
    {
      "cell_type": "markdown",
      "metadata": {
        "id": "AmkjcmeKiQk_"
      },
      "source": [
        "# Introduction to Python"
      ]
    },
    {
      "cell_type": "code",
      "metadata": {
        "colab": {
          "base_uri": "https://localhost:8080/"
        },
        "id": "xAzPl5piXtIs",
        "outputId": "1f703b19-5a6c-4a91-edb2-19e5ec948321"
      },
      "source": [
        "import requests\n",
        "\n",
        "response = requests.get('https://uselessfacts.jsph.pl/random.json?language=en')\n",
        "\n",
        "print(response.text)"
      ],
      "execution_count": null,
      "outputs": [
        {
          "output_type": "stream",
          "text": [
            "{\"id\":\"2172b3a2-7ae0-4c21-8807-3f6ae9a14c23\",\"text\":\"Researchers at the Texas Department of Highways in Fort Worth determined the cow population of the U.S. burps some 50 million tons of valuable hydrocarbons into the atmosphere each year.\\u00a0 The accumulated burps of ten average cows could keep a small house adequately heated and its stove operating for a year.\",\"source\":\"djtech.net\",\"source_url\":\"http:\\/\\/www.djtech.net\\/humor\\/useless_facts.htm\",\"language\":\"en\",\"permalink\":\"https:\\/\\/uselessfacts.jsph.pl\\/2172b3a2-7ae0-4c21-8807-3f6ae9a14c23\"}\n"
          ],
          "name": "stdout"
        }
      ]
    },
    {
      "cell_type": "code",
      "metadata": {
        "colab": {
          "base_uri": "https://localhost:8080/"
        },
        "id": "CKVWXGCYaPIz",
        "outputId": "56fb95c9-dbbe-463c-cac1-3ecd220b8033"
      },
      "source": [
        "query_parameters={\n",
        "    'language':'en'\n",
        "}\n",
        "\n",
        "response = requests.get('https://uselessfacts.jsph.pl/random.json', params=query_parameters)\n",
        "\n",
        "print(response.json().get('text'))"
      ],
      "execution_count": null,
      "outputs": [
        {
          "output_type": "stream",
          "text": [
            "Because of the rotation of the earth, an object can be thrown farther if it is thrown west.\n"
          ],
          "name": "stdout"
        }
      ]
    },
    {
      "cell_type": "markdown",
      "metadata": {
        "id": "kvGv4kM1eeIE"
      },
      "source": [
        "# Data Structures\n",
        "The important ones are lists, dictionaries, and sets."
      ]
    },
    {
      "cell_type": "markdown",
      "metadata": {
        "id": "nlwVXQkMwwMm"
      },
      "source": [
        ""
      ]
    },
    {
      "cell_type": "code",
      "metadata": {
        "colab": {
          "base_uri": "https://localhost:8080/"
        },
        "id": "_wK1X3Oid-b0",
        "outputId": "77f1b085-a0ec-4bf3-9fef-3ef4ed697022"
      },
      "source": [
        "data = ['Caleb','You']\n",
        "print(data[1])\n",
        "\n",
        "data.append('Jimmy')\n",
        "data.append(['hello'])\n",
        "data.append(5)\n",
        "\n",
        "print(data)"
      ],
      "execution_count": null,
      "outputs": [
        {
          "output_type": "stream",
          "text": [
            "You\n",
            "['Caleb', 'You', 'Jimmy', ['hello'], 5]\n"
          ],
          "name": "stdout"
        }
      ]
    },
    {
      "cell_type": "markdown",
      "metadata": {
        "id": "pM8gfkWvglZ_"
      },
      "source": [
        "## List Slicing\n",
        "first number - starting position (inclusive).  \n",
        "second number - stopping position (exclusive).  \n",
        "third number - step.  "
      ]
    },
    {
      "cell_type": "code",
      "metadata": {
        "colab": {
          "base_uri": "https://localhost:8080/"
        },
        "id": "LeY99m6ef1Bw",
        "outputId": "aff06bf2-f946-4d7d-aa87-a67e61a470f5"
      },
      "source": [
        "data = ['Caleb','Jimmy','Sammantha','Monica']\n",
        "\n",
        "print(data[1:4:2])"
      ],
      "execution_count": null,
      "outputs": [
        {
          "output_type": "stream",
          "text": [
            "['Jimmy', 'Monica']\n"
          ],
          "name": "stdout"
        }
      ]
    },
    {
      "cell_type": "markdown",
      "metadata": {
        "id": "50CXSEWPhFc9"
      },
      "source": [
        "# Dictionaries and Sets"
      ]
    },
    {
      "cell_type": "code",
      "metadata": {
        "colab": {
          "base_uri": "https://localhost:8080/"
        },
        "id": "b9fZh6rVhLVo",
        "outputId": "6e61fa8a-e482-44d1-da49-e12c7128dba2"
      },
      "source": [
        "data = {'Caleb', 'Jimmy', 'Samantha', 'Monica', 'Caleb'}\n",
        "\n",
        "data_dictionary = {\n",
        "    'Caleb' : 5,\n",
        "    'Jimmy' : 10,\n",
        "    'Samantha' : 12,\n",
        "    'Monica' : 20,\n",
        "    'Caleb' : 4\n",
        "}\n",
        "\n",
        "print(data)\n",
        "print(data_dictionary.get('Caleb'))"
      ],
      "execution_count": null,
      "outputs": [
        {
          "output_type": "stream",
          "text": [
            "{'Samantha', 'Monica', 'Caleb', 'Jimmy'}\n",
            "4\n"
          ],
          "name": "stdout"
        }
      ]
    },
    {
      "cell_type": "markdown",
      "metadata": {
        "id": "IoW2Xffpw23O"
      },
      "source": [
        "# Control flow - Loops and Conditionals\n",
        "Iteration - One time through the loop"
      ]
    },
    {
      "cell_type": "code",
      "metadata": {
        "colab": {
          "base_uri": "https://localhost:8080/"
        },
        "id": "sCZmIf0Aw-ux",
        "outputId": "cb0db67e-ee7b-4919-ffde-844772010bfe"
      },
      "source": [
        "data = ['a', 'b', 'c', 'd', 'e']\n",
        "\n",
        "for i in range(10):\n",
        "  print(i, end=\" \")\n",
        "\n",
        "print(\"\")\n",
        "for letter in data:\n",
        "  print(letter, end=\" \")\n",
        "\n",
        "print(\"\")\n",
        "for i, letter in enumerate(data):\n",
        "  print(i, letter, end=\" \")\n"
      ],
      "execution_count": null,
      "outputs": [
        {
          "output_type": "stream",
          "text": [
            "0 1 2 3 4 5 6 7 8 9 \n",
            "a b c d e \n",
            "0 a 1 b 2 c 3 d 4 e "
          ],
          "name": "stdout"
        }
      ]
    },
    {
      "cell_type": "code",
      "metadata": {
        "colab": {
          "base_uri": "https://localhost:8080/"
        },
        "id": "EHO2xmoA0EpZ",
        "outputId": "6529ae6a-e3ca-4c98-a729-e0338347a790"
      },
      "source": [
        "data = ['a', 'b', 'c', 'd', 'e']\n",
        "\n",
        "i = 0\n",
        "\n",
        "while i < len(data):\n",
        "  print(data[i], end=\" \")\n",
        "  i += 1\n",
        "\n",
        "while True:\n",
        "  x = input()\n",
        "  if x == \"stop\":\n",
        "    break\n",
        "  elif x == \"special\":\n",
        "    continue\n",
        "  print(\"it wasnt stop or special\")\n",
        "  print(\"printing data...\")"
      ],
      "execution_count": null,
      "outputs": [
        {
          "output_type": "stream",
          "text": [
            "a b c d e hello\n",
            "it wasnt stop or special\n",
            "printing data...\n",
            "special\n",
            "break\n",
            "it wasnt stop or special\n",
            "printing data...\n",
            "stop\n"
          ],
          "name": "stdout"
        }
      ]
    },
    {
      "cell_type": "code",
      "metadata": {
        "colab": {
          "base_uri": "https://localhost:8080/"
        },
        "id": "3apUiCNl2OLF",
        "outputId": "aea83ed5-1102-4670-cff4-3109083156d2"
      },
      "source": [
        "data_dictionary = {\n",
        "    'Caleb' : 5,\n",
        "    'Jimmy' : 10,\n",
        "    'Samantha' : 12,\n",
        "    'Monica' : 20,\n",
        "    'Caleb' : 4\n",
        "}\n",
        "\n",
        "for key, value in data_dictionary.items():\n",
        "  if value == 12:\n",
        "    print('we found 12')\n",
        "    break\n",
        "  print(key, value)"
      ],
      "execution_count": null,
      "outputs": [
        {
          "output_type": "stream",
          "text": [
            "Caleb 4\n",
            "Jimmy 10\n",
            "Caleb is here\n"
          ],
          "name": "stdout"
        }
      ]
    },
    {
      "cell_type": "markdown",
      "metadata": {
        "id": "DDU0d6ru4Ej0"
      },
      "source": [
        "# Guessing game\n",
        "\n",
        "Generate a random number - random module.  \n",
        "\n",
        "do while - Python doesn't have this built in.  \n",
        "do something once - possibly repeat it.  \n",
        "Ask us for a number. If we get it wrong, ask again.  \n",
        "\n",
        "logic for right / wrong: guessed == correct value"
      ]
    },
    {
      "cell_type": "code",
      "metadata": {
        "colab": {
          "base_uri": "https://localhost:8080/"
        },
        "id": "fSwTTtyZ4657",
        "outputId": "5fbb81ee-c7ba-4e60-db8b-d71bb8a392ee"
      },
      "source": [
        "from random import randint\n",
        "low = 0\n",
        "high = 100\n",
        "correct = randint(low, high)\n",
        "print(f'Guess a number between {low} and {high}.')\n",
        "\n",
        "while True:\n",
        "  guess = input()\n",
        "\n",
        "  if int(guess) < correct:\n",
        "    print(\"Guess Higher\")\n",
        "  elif int(guess) > correct:\n",
        "    print(\"Guess Lower\")\n",
        "  else:\n",
        "    print(\"You Win\")\n",
        "    break"
      ],
      "execution_count": null,
      "outputs": [
        {
          "output_type": "stream",
          "text": [
            "Guess a number between 0 and 100.\n",
            "50\n",
            "Guess Lower\n",
            "25\n",
            "Guess Lower\n",
            "12\n",
            "Guess Higher\n",
            "18\n",
            "Guess Lower\n",
            "15\n",
            "You Win\n"
          ],
          "name": "stdout"
        }
      ]
    }
  ]
}